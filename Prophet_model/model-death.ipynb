{
 "cells": [
  {
   "cell_type": "code",
   "execution_count": 1,
   "metadata": {},
   "outputs": [],
   "source": [
    "import warnings\n",
    "from datetime import datetime\n",
    "\n",
    "import numpy as np\n",
    "import pandas as pd\n",
    "import matplotlib.pyplot as plt\n",
    "\n",
    "from fbprophet import Prophet\n",
    "from fbprophet.diagnostics import cross_validation, performance_metrics\n",
    "\n",
    "warnings.filterwarnings('ignore')"
   ]
  },
  {
   "cell_type": "markdown",
   "metadata": {},
   "source": [
    "### Data preparation"
   ]
  },
  {
   "cell_type": "code",
   "execution_count": 2,
   "metadata": {},
   "outputs": [],
   "source": [
    "df = pd.read_csv('data/covid19-clean.csv')\n",
    "df['Date'] = df['Date'].apply(lambda row: datetime.strptime(row, \"%d %B %Y \"))"
   ]
  },
  {
   "cell_type": "code",
   "execution_count": 3,
   "metadata": {},
   "outputs": [],
   "source": [
    "data = df[['Date', 'Official deaths daily']]\n",
    "data.columns = ['ds', 'y']"
   ]
  },
  {
   "cell_type": "code",
   "execution_count": 4,
   "metadata": {},
   "outputs": [],
   "source": [
    "data['floor'] = 0\n",
    "data['cap'] = 50"
   ]
  },
  {
   "cell_type": "markdown",
   "metadata": {},
   "source": [
    "# Modeling"
   ]
  },
  {
   "cell_type": "markdown",
   "metadata": {},
   "source": [
    "### Model creation"
   ]
  },
  {
   "cell_type": "code",
   "execution_count": 5,
   "metadata": {},
   "outputs": [],
   "source": [
    "model_args = {\n",
    "    'changepoint_prior_scale': 0.95,\n",
    "    'growth': 'logistic',\n",
    "    'weekly_seasonality': 20,\n",
    "    'yearly_seasonality': False,\n",
    "    'daily_seasonality': False\n",
    "}"
   ]
  },
  {
   "cell_type": "code",
   "execution_count": 6,
   "metadata": {},
   "outputs": [
    {
     "name": "stderr",
     "output_type": "stream",
     "text": [
      "INFO:numexpr.utils:NumExpr defaulting to 8 threads.\n"
     ]
    },
    {
     "data": {
      "text/plain": [
       "<fbprophet.forecaster.Prophet at 0x7f8db79926d0>"
      ]
     },
     "execution_count": 6,
     "metadata": {},
     "output_type": "execute_result"
    }
   ],
   "source": [
    "model = Prophet(**model_args)\n",
    "model.fit(data[40:])"
   ]
  },
  {
   "cell_type": "code",
   "execution_count": 7,
   "metadata": {},
   "outputs": [],
   "source": [
    "future = model.make_future_dataframe(periods = 1)\n",
    "future['floor'] = 0\n",
    "future['cap'] = 50\n",
    "\n",
    "forecast = model.predict(future)"
   ]
  },
  {
   "cell_type": "code",
   "execution_count": 8,
   "metadata": {},
   "outputs": [
    {
     "data": {
      "text/html": [
       "<div>\n",
       "<style scoped>\n",
       "    .dataframe tbody tr th:only-of-type {\n",
       "        vertical-align: middle;\n",
       "    }\n",
       "\n",
       "    .dataframe tbody tr th {\n",
       "        vertical-align: top;\n",
       "    }\n",
       "\n",
       "    .dataframe thead th {\n",
       "        text-align: right;\n",
       "    }\n",
       "</style>\n",
       "<table border=\"1\" class=\"dataframe\">\n",
       "  <thead>\n",
       "    <tr style=\"text-align: right;\">\n",
       "      <th></th>\n",
       "      <th>ds</th>\n",
       "      <th>y</th>\n",
       "      <th>yhat</th>\n",
       "      <th>yhat_lower</th>\n",
       "      <th>yhat_upper</th>\n",
       "    </tr>\n",
       "  </thead>\n",
       "  <tbody>\n",
       "    <tr>\n",
       "      <td>71</td>\n",
       "      <td>2020-06-16</td>\n",
       "      <td>16.0</td>\n",
       "      <td>16.657709</td>\n",
       "      <td>8.484343</td>\n",
       "      <td>24.328466</td>\n",
       "    </tr>\n",
       "    <tr>\n",
       "      <td>72</td>\n",
       "      <td>2020-06-17</td>\n",
       "      <td>14.0</td>\n",
       "      <td>17.439129</td>\n",
       "      <td>10.031929</td>\n",
       "      <td>25.071514</td>\n",
       "    </tr>\n",
       "    <tr>\n",
       "      <td>73</td>\n",
       "      <td>2020-06-18</td>\n",
       "      <td>30.0</td>\n",
       "      <td>14.809209</td>\n",
       "      <td>6.697145</td>\n",
       "      <td>22.902569</td>\n",
       "    </tr>\n",
       "    <tr>\n",
       "      <td>74</td>\n",
       "      <td>2020-06-19</td>\n",
       "      <td>18.0</td>\n",
       "      <td>13.843298</td>\n",
       "      <td>5.923256</td>\n",
       "      <td>21.760501</td>\n",
       "    </tr>\n",
       "    <tr>\n",
       "      <td>75</td>\n",
       "      <td>2020-06-20</td>\n",
       "      <td>12.0</td>\n",
       "      <td>11.989283</td>\n",
       "      <td>4.170706</td>\n",
       "      <td>19.931536</td>\n",
       "    </tr>\n",
       "    <tr>\n",
       "      <td>76</td>\n",
       "      <td>2020-06-21</td>\n",
       "      <td>10.0</td>\n",
       "      <td>8.135165</td>\n",
       "      <td>-0.149398</td>\n",
       "      <td>15.931013</td>\n",
       "    </tr>\n",
       "    <tr>\n",
       "      <td>77</td>\n",
       "      <td>2020-06-22</td>\n",
       "      <td>3.0</td>\n",
       "      <td>10.024446</td>\n",
       "      <td>2.558835</td>\n",
       "      <td>17.951743</td>\n",
       "    </tr>\n",
       "    <tr>\n",
       "      <td>78</td>\n",
       "      <td>2020-06-23</td>\n",
       "      <td>16.0</td>\n",
       "      <td>16.913201</td>\n",
       "      <td>8.796458</td>\n",
       "      <td>25.241418</td>\n",
       "    </tr>\n",
       "    <tr>\n",
       "      <td>79</td>\n",
       "      <td>2020-06-24</td>\n",
       "      <td>21.0</td>\n",
       "      <td>17.694766</td>\n",
       "      <td>10.095086</td>\n",
       "      <td>25.303741</td>\n",
       "    </tr>\n",
       "    <tr>\n",
       "      <td>80</td>\n",
       "      <td>2020-06-25</td>\n",
       "      <td>NaN</td>\n",
       "      <td>15.064991</td>\n",
       "      <td>7.053869</td>\n",
       "      <td>22.453111</td>\n",
       "    </tr>\n",
       "  </tbody>\n",
       "</table>\n",
       "</div>"
      ],
      "text/plain": [
       "           ds     y       yhat  yhat_lower  yhat_upper\n",
       "71 2020-06-16  16.0  16.657709    8.484343   24.328466\n",
       "72 2020-06-17  14.0  17.439129   10.031929   25.071514\n",
       "73 2020-06-18  30.0  14.809209    6.697145   22.902569\n",
       "74 2020-06-19  18.0  13.843298    5.923256   21.760501\n",
       "75 2020-06-20  12.0  11.989283    4.170706   19.931536\n",
       "76 2020-06-21  10.0   8.135165   -0.149398   15.931013\n",
       "77 2020-06-22   3.0  10.024446    2.558835   17.951743\n",
       "78 2020-06-23  16.0  16.913201    8.796458   25.241418\n",
       "79 2020-06-24  21.0  17.694766   10.095086   25.303741\n",
       "80 2020-06-25   NaN  15.064991    7.053869   22.453111"
      ]
     },
     "execution_count": 8,
     "metadata": {},
     "output_type": "execute_result"
    }
   ],
   "source": [
    "forecast['y'] = model.history['y']\n",
    "forecast[['ds', 'y', 'yhat', 'yhat_lower', 'yhat_upper']].tail(10)"
   ]
  },
  {
   "cell_type": "markdown",
   "metadata": {},
   "source": [
    "### Model explanation"
   ]
  },
  {
   "cell_type": "code",
   "execution_count": 9,
   "metadata": {},
   "outputs": [
    {
     "data": {
      "image/png": "[encoded data removed]",
      "text/plain": [
       "<Figure size 720x432 with 1 Axes>"
      ]
     },
     "metadata": {},
     "output_type": "display_data"
    }
   ],
   "source": [
    "fig = model.plot(forecast)"
   ]
  },
  {
   "cell_type": "code",
   "execution_count": 10,
   "metadata": {},
   "outputs": [
    {
     "data": {
      "image/png": "[encoded data removed]",
      "text/plain": [
       "<Figure size 648x432 with 2 Axes>"
      ]
     },
     "metadata": {},
     "output_type": "display_data"
    }
   ],
   "source": [
    "fig = model.plot_components(forecast)"
   ]
  },
  {
   "cell_type": "markdown",
   "metadata": {},
   "source": [
    "### Model performance"
   ]
  },
  {
   "cell_type": "code",
   "execution_count": 11,
   "metadata": {},
   "outputs": [
    {
     "name": "stderr",
     "output_type": "stream",
     "text": [
      "INFO:fbprophet:Making 14 forecasts with cutoffs between 2020-06-10 00:00:00 and 2020-06-23 00:00:00\n"
     ]
    }
   ],
   "source": [
    "results = cross_validation(model, initial = '65 days', horizon = '1 day', period = '1 day')\n",
    "metrics = performance_metrics(results)"
   ]
  },
  {
   "cell_type": "code",
   "execution_count": 12,
   "metadata": {},
   "outputs": [
    {
     "data": {
      "text/html": [
       "<div>\n",
       "<style scoped>\n",
       "    .dataframe tbody tr th:only-of-type {\n",
       "        vertical-align: middle;\n",
       "    }\n",
       "\n",
       "    .dataframe tbody tr th {\n",
       "        vertical-align: top;\n",
       "    }\n",
       "\n",
       "    .dataframe thead th {\n",
       "        text-align: right;\n",
       "    }\n",
       "</style>\n",
       "<table border=\"1\" class=\"dataframe\">\n",
       "  <thead>\n",
       "    <tr style=\"text-align: right;\">\n",
       "      <th></th>\n",
       "      <th>ds</th>\n",
       "      <th>yhat</th>\n",
       "      <th>yhat_lower</th>\n",
       "      <th>yhat_upper</th>\n",
       "      <th>y</th>\n",
       "      <th>cutoff</th>\n",
       "    </tr>\n",
       "  </thead>\n",
       "  <tbody>\n",
       "    <tr>\n",
       "      <td>0</td>\n",
       "      <td>2020-06-11</td>\n",
       "      <td>10.195622</td>\n",
       "      <td>2.125187</td>\n",
       "      <td>17.934512</td>\n",
       "      <td>9.0</td>\n",
       "      <td>2020-06-10</td>\n",
       "    </tr>\n",
       "    <tr>\n",
       "      <td>1</td>\n",
       "      <td>2020-06-12</td>\n",
       "      <td>10.279220</td>\n",
       "      <td>2.366290</td>\n",
       "      <td>17.790613</td>\n",
       "      <td>7.0</td>\n",
       "      <td>2020-06-11</td>\n",
       "    </tr>\n",
       "    <tr>\n",
       "      <td>2</td>\n",
       "      <td>2020-06-13</td>\n",
       "      <td>7.395941</td>\n",
       "      <td>-0.814947</td>\n",
       "      <td>15.287305</td>\n",
       "      <td>15.0</td>\n",
       "      <td>2020-06-12</td>\n",
       "    </tr>\n",
       "    <tr>\n",
       "      <td>3</td>\n",
       "      <td>2020-06-14</td>\n",
       "      <td>3.673576</td>\n",
       "      <td>-4.054189</td>\n",
       "      <td>11.418978</td>\n",
       "      <td>10.0</td>\n",
       "      <td>2020-06-13</td>\n",
       "    </tr>\n",
       "    <tr>\n",
       "      <td>4</td>\n",
       "      <td>2020-06-15</td>\n",
       "      <td>8.774073</td>\n",
       "      <td>1.332217</td>\n",
       "      <td>16.489444</td>\n",
       "      <td>9.0</td>\n",
       "      <td>2020-06-14</td>\n",
       "    </tr>\n",
       "    <tr>\n",
       "      <td>5</td>\n",
       "      <td>2020-06-16</td>\n",
       "      <td>14.962769</td>\n",
       "      <td>7.788169</td>\n",
       "      <td>22.416280</td>\n",
       "      <td>16.0</td>\n",
       "      <td>2020-06-15</td>\n",
       "    </tr>\n",
       "    <tr>\n",
       "      <td>6</td>\n",
       "      <td>2020-06-17</td>\n",
       "      <td>15.651056</td>\n",
       "      <td>8.058684</td>\n",
       "      <td>22.558760</td>\n",
       "      <td>14.0</td>\n",
       "      <td>2020-06-16</td>\n",
       "    </tr>\n",
       "    <tr>\n",
       "      <td>7</td>\n",
       "      <td>2020-06-18</td>\n",
       "      <td>11.226542</td>\n",
       "      <td>3.910296</td>\n",
       "      <td>19.270590</td>\n",
       "      <td>30.0</td>\n",
       "      <td>2020-06-17</td>\n",
       "    </tr>\n",
       "    <tr>\n",
       "      <td>8</td>\n",
       "      <td>2020-06-19</td>\n",
       "      <td>13.639884</td>\n",
       "      <td>6.100659</td>\n",
       "      <td>22.040570</td>\n",
       "      <td>18.0</td>\n",
       "      <td>2020-06-18</td>\n",
       "    </tr>\n",
       "    <tr>\n",
       "      <td>9</td>\n",
       "      <td>2020-06-20</td>\n",
       "      <td>12.517993</td>\n",
       "      <td>4.417360</td>\n",
       "      <td>20.106267</td>\n",
       "      <td>12.0</td>\n",
       "      <td>2020-06-19</td>\n",
       "    </tr>\n",
       "    <tr>\n",
       "      <td>10</td>\n",
       "      <td>2020-06-21</td>\n",
       "      <td>8.648830</td>\n",
       "      <td>1.283637</td>\n",
       "      <td>16.350027</td>\n",
       "      <td>10.0</td>\n",
       "      <td>2020-06-20</td>\n",
       "    </tr>\n",
       "    <tr>\n",
       "      <td>11</td>\n",
       "      <td>2020-06-22</td>\n",
       "      <td>11.685873</td>\n",
       "      <td>4.177142</td>\n",
       "      <td>18.946407</td>\n",
       "      <td>3.0</td>\n",
       "      <td>2020-06-21</td>\n",
       "    </tr>\n",
       "    <tr>\n",
       "      <td>12</td>\n",
       "      <td>2020-06-23</td>\n",
       "      <td>17.056662</td>\n",
       "      <td>9.597922</td>\n",
       "      <td>25.183026</td>\n",
       "      <td>16.0</td>\n",
       "      <td>2020-06-22</td>\n",
       "    </tr>\n",
       "    <tr>\n",
       "      <td>13</td>\n",
       "      <td>2020-06-24</td>\n",
       "      <td>17.074745</td>\n",
       "      <td>9.304794</td>\n",
       "      <td>24.786220</td>\n",
       "      <td>21.0</td>\n",
       "      <td>2020-06-23</td>\n",
       "    </tr>\n",
       "  </tbody>\n",
       "</table>\n",
       "</div>"
      ],
      "text/plain": [
       "           ds       yhat  yhat_lower  yhat_upper     y     cutoff\n",
       "0  2020-06-11  10.195622    2.125187   17.934512   9.0 2020-06-10\n",
       "1  2020-06-12  10.279220    2.366290   17.790613   7.0 2020-06-11\n",
       "2  2020-06-13   7.395941   -0.814947   15.287305  15.0 2020-06-12\n",
       "3  2020-06-14   3.673576   -4.054189   11.418978  10.0 2020-06-13\n",
       "4  2020-06-15   8.774073    1.332217   16.489444   9.0 2020-06-14\n",
       "5  2020-06-16  14.962769    7.788169   22.416280  16.0 2020-06-15\n",
       "6  2020-06-17  15.651056    8.058684   22.558760  14.0 2020-06-16\n",
       "7  2020-06-18  11.226542    3.910296   19.270590  30.0 2020-06-17\n",
       "8  2020-06-19  13.639884    6.100659   22.040570  18.0 2020-06-18\n",
       "9  2020-06-20  12.517993    4.417360   20.106267  12.0 2020-06-19\n",
       "10 2020-06-21   8.648830    1.283637   16.350027  10.0 2020-06-20\n",
       "11 2020-06-22  11.685873    4.177142   18.946407   3.0 2020-06-21\n",
       "12 2020-06-23  17.056662    9.597922   25.183026  16.0 2020-06-22\n",
       "13 2020-06-24  17.074745    9.304794   24.786220  21.0 2020-06-23"
      ]
     },
     "execution_count": 12,
     "metadata": {},
     "output_type": "execute_result"
    }
   ],
   "source": [
    "results"
   ]
  },
  {
   "cell_type": "code",
   "execution_count": 13,
   "metadata": {},
   "outputs": [
    {
     "data": {
      "text/html": [
       "<div>\n",
       "<style scoped>\n",
       "    .dataframe tbody tr th:only-of-type {\n",
       "        vertical-align: middle;\n",
       "    }\n",
       "\n",
       "    .dataframe tbody tr th {\n",
       "        vertical-align: top;\n",
       "    }\n",
       "\n",
       "    .dataframe thead th {\n",
       "        text-align: right;\n",
       "    }\n",
       "</style>\n",
       "<table border=\"1\" class=\"dataframe\">\n",
       "  <thead>\n",
       "    <tr style=\"text-align: right;\">\n",
       "      <th></th>\n",
       "      <th>horizon</th>\n",
       "      <th>mse</th>\n",
       "      <th>rmse</th>\n",
       "      <th>mae</th>\n",
       "      <th>mape</th>\n",
       "      <th>mdape</th>\n",
       "      <th>coverage</th>\n",
       "    </tr>\n",
       "  </thead>\n",
       "  <tbody>\n",
       "    <tr>\n",
       "      <td>0</td>\n",
       "      <td>1 days</td>\n",
       "      <td>41.38549</td>\n",
       "      <td>6.433156</td>\n",
       "      <td>4.285005</td>\n",
       "      <td>0.438807</td>\n",
       "      <td>0.161017</td>\n",
       "      <td>0.857143</td>\n",
       "    </tr>\n",
       "  </tbody>\n",
       "</table>\n",
       "</div>"
      ],
      "text/plain": [
       "  horizon       mse      rmse       mae      mape     mdape  coverage\n",
       "0  1 days  41.38549  6.433156  4.285005  0.438807  0.161017  0.857143"
      ]
     },
     "execution_count": 13,
     "metadata": {},
     "output_type": "execute_result"
    }
   ],
   "source": [
    "metrics"
   ]
  },
  {
   "cell_type": "markdown",
   "metadata": {},
   "source": [
    "### Tomorrow prediction"
   ]
  },
  {
   "cell_type": "code",
   "execution_count": 14,
   "metadata": {},
   "outputs": [
    {
     "data": {
      "text/plain": [
       "15"
      ]
     },
     "execution_count": 14,
     "metadata": {},
     "output_type": "execute_result"
    }
   ],
   "source": [
    "np.round(forecast.iloc[-1]['yhat']).astype(int)"
   ]
  }
 ],
 "metadata": {
  "kernelspec": {
   "display_name": "Python 3",
   "language": "python",
   "name": "python3"
  },
  "language_info": {
   "codemirror_mode": {
    "name": "ipython",
    "version": 3
   },
   "file_extension": ".py",
   "mimetype": "text/x-python",
   "name": "python",
   "nbconvert_exporter": "python",
   "pygments_lexer": "ipython3",
   "version": "3.7.4"
  }
 },
 "nbformat": 4,
 "nbformat_minor": 2
}
